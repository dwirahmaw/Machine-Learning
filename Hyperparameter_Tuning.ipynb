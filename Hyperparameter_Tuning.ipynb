{
  "nbformat": 4,
  "nbformat_minor": 0,
  "metadata": {
    "colab": {
      "name": "Hyperparameter Tuning.ipynb",
      "provenance": [],
      "collapsed_sections": [
        "LQFV9DKNdX1B",
        "rfIlsm2AwQ3B",
        "ANU5a8wRwEZM",
        "6uPLgH20wdBz",
        "nZMlM2ybwwVJ",
        "kidFGq1SxFWb",
        "_hnNfWj2zFzr",
        "ca9jJmvOyUP3",
        "Y_7_LkCpzjI9",
        "7FFte3Dd0dP3",
        "rq7qm2re1for"
      ]
    },
    "kernelspec": {
      "name": "python3",
      "display_name": "Python 3"
    },
    "accelerator": "GPU"
  },
  "cells": [
    {
      "cell_type": "code",
      "metadata": {
        "id": "J8MCsIjVeeuG",
        "colab": {
          "base_uri": "https://localhost:8080/"
        },
        "outputId": "41cbc5a7-4c77-4353-eac4-e4d748a1ff83"
      },
      "source": [
        "# Download dataset\n",
        "!wget --no-check-certificate \\\n",
        "    https://storage.googleapis.com/mledu-datasets/cats_and_dogs_filtered.zip "
      ],
      "execution_count": 1,
      "outputs": [
        {
          "output_type": "stream",
          "name": "stdout",
          "text": [
            "--2022-06-27 11:23:15--  https://storage.googleapis.com/mledu-datasets/cats_and_dogs_filtered.zip\n",
            "Resolving storage.googleapis.com (storage.googleapis.com)... 172.217.15.112, 142.251.16.128, 142.251.45.112, ...\n",
            "Connecting to storage.googleapis.com (storage.googleapis.com)|172.217.15.112|:443... connected.\n",
            "HTTP request sent, awaiting response... 200 OK\n",
            "Length: 68606236 (65M) [application/zip]\n",
            "Saving to: ‘cats_and_dogs_filtered.zip’\n",
            "\n",
            "\r          cats_and_   0%[                    ]       0  --.-KB/s               \rcats_and_dogs_filte 100%[===================>]  65.43M   339MB/s    in 0.2s    \n",
            "\n",
            "2022-06-27 11:23:15 (339 MB/s) - ‘cats_and_dogs_filtered.zip’ saved [68606236/68606236]\n",
            "\n"
          ]
        }
      ]
    },
    {
      "cell_type": "code",
      "metadata": {
        "id": "oAE_RyC3ijCS"
      },
      "source": [
        "!unzip \\cats_and_dogs_filtered.zip &> /dev/null "
      ],
      "execution_count": 2,
      "outputs": []
    },
    {
      "cell_type": "markdown",
      "metadata": {
        "id": "ANU5a8wRwEZM"
      },
      "source": [
        "### Masuk ke lokasi tempat menyimpan dataset"
      ]
    },
    {
      "cell_type": "code",
      "metadata": {
        "id": "iFZq_hlgiflp",
        "colab": {
          "base_uri": "https://localhost:8080/"
        },
        "outputId": "36f74560-bcdc-4f4a-f8ac-963bdce394b5"
      },
      "source": [
        "%cd /content/drive/My Drive/RESEARCH CENTER/Kaggle"
      ],
      "execution_count": 3,
      "outputs": [
        {
          "output_type": "stream",
          "name": "stdout",
          "text": [
            "[Errno 2] No such file or directory: '/content/drive/My Drive/RESEARCH CENTER/Kaggle'\n",
            "/content\n"
          ]
        }
      ]
    },
    {
      "cell_type": "markdown",
      "metadata": {
        "id": "6uPLgH20wdBz"
      },
      "source": [
        "### Definisi data generator"
      ]
    },
    {
      "cell_type": "code",
      "metadata": {
        "id": "2zZXbW-W1HBB",
        "colab": {
          "base_uri": "https://localhost:8080/"
        },
        "outputId": "7f1c34a6-c6ec-45de-a487-84d81dc630b4"
      },
      "source": [
        "from keras.preprocessing.image import ImageDataGenerator\n",
        "\n",
        "\n",
        "train_datagen = ImageDataGenerator(width_shift_range=0.2,\n",
        "                                   height_shift_range=0.2,\n",
        "                                   rescale=1./255,\n",
        "                                   shear_range=0.2,\n",
        "                                   horizontal_flip=True,\n",
        "                                   fill_mode='nearest')\n",
        "\n",
        "training_set = train_datagen.flow_from_directory(\"cats_and_dogs_filtered/train/\",\n",
        "                                                 target_size=(128,128),\n",
        "                                                 color_mode=\"rgb\",\n",
        "                                                 shuffle=False,\n",
        "                                                 batch_size = 8,\n",
        "                                                 class_mode='categorical')"
      ],
      "execution_count": 4,
      "outputs": [
        {
          "output_type": "stream",
          "name": "stdout",
          "text": [
            "Found 2000 images belonging to 2 classes.\n"
          ]
        }
      ]
    },
    {
      "cell_type": "code",
      "metadata": {
        "id": "LIoUs1Rl2DWs",
        "colab": {
          "base_uri": "https://localhost:8080/"
        },
        "outputId": "0cc87d8a-04ea-4ac2-cdac-c53d4e76ede9"
      },
      "source": [
        "validation_datagen = ImageDataGenerator(width_shift_range=0.2,\n",
        "                                        height_shift_range=0.2,\n",
        "                                        rescale=1./255,\n",
        "                                        shear_range=0.2,\n",
        "                                        horizontal_flip=True,\n",
        "                                        fill_mode='nearest')\n",
        "\n",
        "validation_set = validation_datagen.flow_from_directory(\"cats_and_dogs_filtered/validation/\",\n",
        "                                                        target_size=(128,128),\n",
        "                                                        color_mode=\"rgb\",\n",
        "                                                        shuffle=False,\n",
        "                                                        batch_size = 8,\n",
        "                                                        class_mode='categorical')"
      ],
      "execution_count": 5,
      "outputs": [
        {
          "output_type": "stream",
          "name": "stdout",
          "text": [
            "Found 1000 images belonging to 2 classes.\n"
          ]
        }
      ]
    },
    {
      "cell_type": "markdown",
      "metadata": {
        "id": "nZMlM2ybwwVJ"
      },
      "source": [
        "### Load TensorBoard notebook extension dan Hapus semua **logs** sebelumnya"
      ]
    },
    {
      "cell_type": "code",
      "metadata": {
        "id": "C1sc8yGyfUNz"
      },
      "source": [
        "import tensorflow as tf\n",
        "from tensorboard.plugins.hparams import api as hp"
      ],
      "execution_count": 6,
      "outputs": []
    },
    {
      "cell_type": "code",
      "metadata": {
        "id": "KQl5OA_4cWd4"
      },
      "source": [
        "%load_ext tensorboard"
      ],
      "execution_count": 7,
      "outputs": []
    },
    {
      "cell_type": "code",
      "metadata": {
        "id": "9t_9UZ6Aevsu"
      },
      "source": [
        "!rm -rf ./logs/ "
      ],
      "execution_count": 8,
      "outputs": []
    },
    {
      "cell_type": "markdown",
      "metadata": {
        "id": "kidFGq1SxFWb"
      },
      "source": [
        "### Definisikan hparam yang ingin digunakan. \n",
        "\n",
        "Semakin banyak hparam yang didefinisikan maka semakin banyak pula kombinasi hyperparameter digunakan untuk training model. Semakin banyak kombinasi maka semakin memakan banyak waktu (FYI : lama training model yang digunakan dalam contoh ini +/- 3-4 jam menggunakan GPU).\n",
        "\n",
        "Menyimpan semua summary hparam kedalam `logs/hparam_tuning` untuk digunakan oleh tensorboard dan sebagai penyimpanan sementara training information."
      ]
    },
    {
      "cell_type": "code",
      "metadata": {
        "id": "KtqStY2Wt3hC"
      },
      "source": [
        "HP_NUM_UNITS = hp.HParam('num_units', hp.Discrete([64, 128]))\n",
        "HP_DROPOUT = hp.HParam('dropout', hp.RealInterval(0.2, 0.5))\n",
        "HP_OPTIMIZER = hp.HParam('optimizer', hp.Discrete(['adam', 'sgd', 'adadelta']))\n",
        "\n",
        "METRIC_ACCURACY = 'accuracy'\n",
        "\n",
        "with tf.summary.create_file_writer('logs/hparam_tuning').as_default():\n",
        "  hp.hparams_config(\n",
        "    hparams=[HP_NUM_UNITS, HP_DROPOUT, HP_OPTIMIZER],\n",
        "    metrics=[hp.Metric(METRIC_ACCURACY, display_name='Accuracy')],\n",
        "  )"
      ],
      "execution_count": 9,
      "outputs": []
    },
    {
      "cell_type": "markdown",
      "metadata": {
        "id": "_hnNfWj2zFzr"
      },
      "source": [
        "### Definisikan `x_val dan y_val` dari validation data untuk evaluasi model."
      ]
    },
    {
      "cell_type": "code",
      "metadata": {
        "id": "L2_dOLn4fx0b"
      },
      "source": [
        "import numpy as np\n",
        "xvl, yvl = zip(*(validation_set[i] for i in range(len(validation_set))))\n",
        "x_val, y_val = np.vstack(xvl), np.vstack(yvl)"
      ],
      "execution_count": 11,
      "outputs": []
    },
    {
      "cell_type": "markdown",
      "metadata": {
        "id": "ca9jJmvOyUP3"
      },
      "source": [
        "### Definisikan Model menggunakan hparam.\n",
        "\n",
        "Disini anda mendefinisikan model, compile model, training model secara bersamaan didalam fungsi `train_test_model`. Fungsi ini akan mengembalikan nilai akurasi rata-rata dari masing-masing model."
      ]
    },
    {
      "cell_type": "code",
      "metadata": {
        "id": "1F9wtViCuA5q"
      },
      "source": [
        "def train_test_model(hparams):\n",
        "  model = tf.keras.models.Sequential([tf.keras.layers.Conv2D(64, (5, 5), \n",
        "                                                             activation=tf.nn.relu, \n",
        "                                                             input_shape=(128,128,3)),\n",
        "                                      tf.keras.layers.BatchNormalization(),\n",
        "                                      tf.keras.layers.MaxPooling2D(pool_size=(2, 2)),\n",
        "                                      tf.keras.layers.Dropout(hparams[HP_DROPOUT]),\n",
        "                                      tf.keras.layers.Conv2D(64, (5, 5), \n",
        "                                                             activation=tf.nn.relu),\n",
        "                                      tf.keras.layers.BatchNormalization(),\n",
        "                                      tf.keras.layers.MaxPooling2D(pool_size=(2, 2)),\n",
        "                                      tf.keras.layers.MaxPooling2D(pool_size=(2, 2)),\n",
        "                                      tf.keras.layers.Dropout(hparams[HP_DROPOUT]),\n",
        "                                      tf.keras.layers.Conv2D(32, (5, 5), \n",
        "                                                             activation=tf.nn.relu),\n",
        "                                      tf.keras.layers.BatchNormalization(),\n",
        "                                      tf.keras.layers.MaxPooling2D(pool_size=(2, 2)),\n",
        "                                      tf.keras.layers.MaxPooling2D(pool_size=(2, 2)),\n",
        "                                      tf.keras.layers.Dropout(hparams[HP_DROPOUT]),\n",
        "                                      tf.keras.layers.Flatten(),\n",
        "                                      tf.keras.layers.Dense(hparams[HP_NUM_UNITS], \n",
        "                                                            activation=tf.nn.relu),\n",
        "                                      tf.keras.layers.Dense(64, activation=tf.nn.relu),\n",
        "                                      tf.keras.layers.Dense(32, activation=tf.nn.relu),\n",
        "                                      tf.keras.layers.Dropout(hparams[HP_DROPOUT]),\n",
        "                                      tf.keras.layers.Dense(2, activation=tf.nn.softmax),\n",
        "                                      ])\n",
        "\n",
        "  model.compile(\n",
        "      optimizer=hparams[HP_OPTIMIZER],\n",
        "      loss='categorical_crossentropy',\n",
        "      metrics=['accuracy'],\n",
        "  )\n",
        "\n",
        "  model.fit(training_set, \n",
        "            validation_data=validation_set, \n",
        "            epochs=25,\n",
        "            )\n",
        "  _, accuracy = model.evaluate(x_val, y_val)\n",
        "  return accuracy"
      ],
      "execution_count": 12,
      "outputs": []
    },
    {
      "cell_type": "markdown",
      "metadata": {
        "id": "Y_7_LkCpzjI9"
      },
      "source": [
        "### Definisikan fungsi `run` \n",
        "\n",
        "Hal ini bertujuan untuk melakukan log record hparams yang berisi summary dari hyperparameters dan final accuracy-nya."
      ]
    },
    {
      "cell_type": "code",
      "metadata": {
        "id": "EdmyowiD3RDK"
      },
      "source": [
        "def run(run_dir, hparams):\n",
        "  with tf.summary.create_file_writer(run_dir).as_default():\n",
        "    hp.hparams(hparams)  # record the values used in this trial\n",
        "    accuracy = train_test_model(hparams)\n",
        "    tf.summary.scalar(METRIC_ACCURACY, accuracy, step=50)"
      ],
      "execution_count": 13,
      "outputs": []
    },
    {
      "cell_type": "markdown",
      "metadata": {
        "id": "7FFte3Dd0dP3"
      },
      "source": [
        "### Grid Search Training Model\n"
      ]
    },
    {
      "cell_type": "code",
      "metadata": {
        "id": "7wxllISrmPo5",
        "colab": {
          "base_uri": "https://localhost:8080/"
        },
        "outputId": "3b6de13d-9c66-4380-8cbe-a5301f6c502e"
      },
      "source": [
        "['adam', 'sgd', 'adadelta', 'rmsprop', 'adamx', 'nadam']"
      ],
      "execution_count": 14,
      "outputs": [
        {
          "output_type": "execute_result",
          "data": {
            "text/plain": [
              "['adam', 'sgd', 'adadelta', 'rmsprop', 'adamx', 'nadam']"
            ]
          },
          "metadata": {},
          "execution_count": 14
        }
      ]
    },
    {
      "cell_type": "code",
      "metadata": {
        "id": "0OoQ7cc940GI",
        "colab": {
          "base_uri": "https://localhost:8080/"
        },
        "outputId": "fa51eeda-5a28-480f-98b3-418728ff142e"
      },
      "source": [
        "session_num = 0\n",
        "\n",
        "for num_units in HP_NUM_UNITS.domain.values:\n",
        "  for dropout_rate in (HP_DROPOUT.domain.min_value, HP_DROPOUT.domain.max_value):\n",
        "    for optimizer in HP_OPTIMIZER.domain.values:\n",
        "      hparams = {\n",
        "          HP_NUM_UNITS: num_units,\n",
        "          HP_DROPOUT: dropout_rate,\n",
        "          HP_OPTIMIZER: optimizer,\n",
        "      }\n",
        "      run_name = \"run-%d\" % session_num\n",
        "      print('--- Starting trial: %s' % run_name)\n",
        "      print({h.name: hparams[h] for h in hparams})\n",
        "      run('logs/hparam_tuning/' + run_name, hparams)\n",
        "      session_num += 1\n"
      ],
      "execution_count": null,
      "outputs": [
        {
          "output_type": "stream",
          "name": "stdout",
          "text": [
            "--- Starting trial: run-0\n",
            "{'num_units': 64, 'dropout': 0.2, 'optimizer': 'adadelta'}\n",
            "Epoch 1/25\n",
            "250/250 [==============================] - 31s 77ms/step - loss: 1.1317 - accuracy: 0.5045 - val_loss: 0.7221 - val_accuracy: 0.4940\n",
            "Epoch 2/25\n",
            "250/250 [==============================] - 19s 76ms/step - loss: 1.1074 - accuracy: 0.4930 - val_loss: 0.7862 - val_accuracy: 0.5070\n",
            "Epoch 3/25\n",
            "250/250 [==============================] - 19s 75ms/step - loss: 1.0562 - accuracy: 0.5090 - val_loss: 0.8111 - val_accuracy: 0.4990\n",
            "Epoch 4/25\n",
            "250/250 [==============================] - 19s 76ms/step - loss: 1.0783 - accuracy: 0.4935 - val_loss: 0.7842 - val_accuracy: 0.4970\n",
            "Epoch 5/25\n",
            "250/250 [==============================] - 20s 82ms/step - loss: 1.0585 - accuracy: 0.5030 - val_loss: 0.7815 - val_accuracy: 0.5150\n",
            "Epoch 6/25\n",
            "250/250 [==============================] - 20s 78ms/step - loss: 1.0255 - accuracy: 0.4950 - val_loss: 0.7896 - val_accuracy: 0.4930\n",
            "Epoch 7/25\n",
            "250/250 [==============================] - 19s 78ms/step - loss: 0.9833 - accuracy: 0.4865 - val_loss: 0.7824 - val_accuracy: 0.5080\n",
            "Epoch 8/25\n",
            "250/250 [==============================] - 19s 76ms/step - loss: 1.0049 - accuracy: 0.5015 - val_loss: 0.7568 - val_accuracy: 0.5200\n",
            "Epoch 9/25\n",
            "250/250 [==============================] - 19s 76ms/step - loss: 0.9695 - accuracy: 0.4890 - val_loss: 0.7709 - val_accuracy: 0.4980\n",
            "Epoch 10/25\n",
            "250/250 [==============================] - 19s 76ms/step - loss: 0.9875 - accuracy: 0.4955 - val_loss: 0.7660 - val_accuracy: 0.5070\n",
            "Epoch 11/25\n",
            "250/250 [==============================] - 19s 77ms/step - loss: 0.9957 - accuracy: 0.4860 - val_loss: 0.7468 - val_accuracy: 0.5090\n",
            "Epoch 12/25\n",
            "250/250 [==============================] - 19s 78ms/step - loss: 0.9805 - accuracy: 0.4880 - val_loss: 0.7481 - val_accuracy: 0.5230\n",
            "Epoch 13/25\n",
            "250/250 [==============================] - 19s 77ms/step - loss: 0.9614 - accuracy: 0.4985 - val_loss: 0.7456 - val_accuracy: 0.5260\n",
            "Epoch 14/25\n",
            "250/250 [==============================] - 19s 77ms/step - loss: 0.9229 - accuracy: 0.5070 - val_loss: 0.7359 - val_accuracy: 0.5200\n",
            "Epoch 15/25\n",
            "250/250 [==============================] - 19s 77ms/step - loss: 0.9174 - accuracy: 0.4950 - val_loss: 0.7417 - val_accuracy: 0.5100\n",
            "Epoch 16/25\n",
            "250/250 [==============================] - 19s 77ms/step - loss: 0.9249 - accuracy: 0.4870 - val_loss: 0.7318 - val_accuracy: 0.5270\n",
            "Epoch 17/25\n",
            "250/250 [==============================] - 19s 76ms/step - loss: 0.8977 - accuracy: 0.4970 - val_loss: 0.7416 - val_accuracy: 0.5140\n",
            "Epoch 18/25\n",
            "250/250 [==============================] - 19s 76ms/step - loss: 0.9320 - accuracy: 0.4855 - val_loss: 0.7493 - val_accuracy: 0.5410\n",
            "Epoch 19/25\n",
            "250/250 [==============================] - 19s 74ms/step - loss: 0.8940 - accuracy: 0.4830 - val_loss: 0.7232 - val_accuracy: 0.5310\n",
            "Epoch 20/25\n",
            "250/250 [==============================] - 20s 79ms/step - loss: 0.8629 - accuracy: 0.5185 - val_loss: 0.7216 - val_accuracy: 0.5190\n",
            "Epoch 21/25\n",
            "250/250 [==============================] - 19s 75ms/step - loss: 0.8650 - accuracy: 0.5050 - val_loss: 0.7203 - val_accuracy: 0.5090\n",
            "Epoch 22/25\n",
            "250/250 [==============================] - 19s 76ms/step - loss: 0.8894 - accuracy: 0.5020 - val_loss: 0.7069 - val_accuracy: 0.5380\n",
            "Epoch 23/25\n",
            "250/250 [==============================] - 19s 76ms/step - loss: 0.8665 - accuracy: 0.5015 - val_loss: 0.7387 - val_accuracy: 0.5310\n",
            "Epoch 24/25\n",
            "250/250 [==============================] - 19s 76ms/step - loss: 0.8471 - accuracy: 0.5015 - val_loss: 0.7449 - val_accuracy: 0.4960\n",
            "Epoch 25/25\n",
            "250/250 [==============================] - 19s 76ms/step - loss: 0.8631 - accuracy: 0.5150 - val_loss: 0.7156 - val_accuracy: 0.5230\n",
            "32/32 [==============================] - 1s 15ms/step - loss: 0.7244 - accuracy: 0.5080\n",
            "--- Starting trial: run-1\n",
            "{'num_units': 64, 'dropout': 0.2, 'optimizer': 'adam'}\n",
            "Epoch 1/25\n",
            "250/250 [==============================] - 20s 77ms/step - loss: 0.7636 - accuracy: 0.4785 - val_loss: 0.7334 - val_accuracy: 0.4940\n",
            "Epoch 2/25\n",
            "250/250 [==============================] - 19s 76ms/step - loss: 0.6967 - accuracy: 0.5115 - val_loss: 0.7035 - val_accuracy: 0.4870\n",
            "Epoch 3/25\n",
            "250/250 [==============================] - 19s 76ms/step - loss: 0.6999 - accuracy: 0.4940 - val_loss: 0.6946 - val_accuracy: 0.5150\n",
            "Epoch 4/25\n",
            "250/250 [==============================] - 19s 75ms/step - loss: 0.6956 - accuracy: 0.5030 - val_loss: 0.6909 - val_accuracy: 0.5410\n",
            "Epoch 5/25\n",
            "250/250 [==============================] - 19s 76ms/step - loss: 0.6916 - accuracy: 0.5205 - val_loss: 0.6953 - val_accuracy: 0.5400\n",
            "Epoch 6/25\n",
            "250/250 [==============================] - 19s 76ms/step - loss: 0.6884 - accuracy: 0.5450 - val_loss: 0.7024 - val_accuracy: 0.4910\n",
            "Epoch 7/25\n",
            "250/250 [==============================] - 19s 76ms/step - loss: 0.6926 - accuracy: 0.5400 - val_loss: 0.6922 - val_accuracy: 0.5280\n",
            "Epoch 8/25\n",
            "250/250 [==============================] - 19s 76ms/step - loss: 0.6907 - accuracy: 0.5595 - val_loss: 0.7013 - val_accuracy: 0.5130\n",
            "Epoch 9/25\n",
            "250/250 [==============================] - 20s 78ms/step - loss: 0.6931 - accuracy: 0.5510 - val_loss: 0.6954 - val_accuracy: 0.5070\n",
            "Epoch 10/25\n",
            "250/250 [==============================] - 19s 76ms/step - loss: 0.6828 - accuracy: 0.5680 - val_loss: 0.6819 - val_accuracy: 0.5390\n",
            "Epoch 11/25\n",
            "250/250 [==============================] - 19s 76ms/step - loss: 0.6873 - accuracy: 0.5500 - val_loss: 0.6982 - val_accuracy: 0.5140\n",
            "Epoch 12/25\n",
            "250/250 [==============================] - 19s 76ms/step - loss: 0.6915 - accuracy: 0.5480 - val_loss: 0.6873 - val_accuracy: 0.5410\n",
            "Epoch 13/25\n",
            "250/250 [==============================] - 19s 77ms/step - loss: 0.6846 - accuracy: 0.5590 - val_loss: 0.6882 - val_accuracy: 0.5470\n",
            "Epoch 14/25\n",
            "250/250 [==============================] - 19s 75ms/step - loss: 0.6840 - accuracy: 0.5670 - val_loss: 0.6891 - val_accuracy: 0.5490\n",
            "Epoch 15/25\n",
            " 76/250 [========>.....................] - ETA: 9s - loss: 0.6883 - accuracy: 0.5839"
          ]
        }
      ]
    },
    {
      "cell_type": "markdown",
      "metadata": {
        "id": "rq7qm2re1for"
      },
      "source": [
        "### Visualisasi hasil evaluasi semua model dengan hyperparameternya menggunakan Tensorboard"
      ]
    },
    {
      "cell_type": "code",
      "metadata": {
        "id": "5IeZTCpCQcrM"
      },
      "source": [
        "%%bash\n",
        "wget -q 'https://storage.googleapis.com/download.tensorflow.org/tensorboard/hparams_demo_logs.zip'\n",
        "unzip -q hparams_demo_logs.zip -d logs/hparam_demo"
      ],
      "execution_count": null,
      "outputs": []
    },
    {
      "cell_type": "code",
      "metadata": {
        "id": "0Fk-1aaWQjfU"
      },
      "source": [
        "%tensorboard --logdir logs/hparam_tuning"
      ],
      "execution_count": null,
      "outputs": []
    },
    {
      "cell_type": "code",
      "metadata": {
        "id": "p8ZfGdNCQyQC"
      },
      "source": [
        "!kill 5496"
      ],
      "execution_count": null,
      "outputs": []
    },
    {
      "cell_type": "code",
      "metadata": {
        "id": "xams_6XQWNrZ"
      },
      "source": [
        ""
      ],
      "execution_count": null,
      "outputs": []
    }
  ]
}