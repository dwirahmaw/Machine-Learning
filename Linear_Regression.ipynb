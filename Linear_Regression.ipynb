{
  "cells": [
    {
      "cell_type": "markdown",
      "metadata": {
        "id": "yPZgRpVDuCPW"
      },
      "source": [
        "# **Kegiatan Modul 3**"
      ]
    },
    {
      "cell_type": "markdown",
      "metadata": {
        "id": "Mp8Nu2xJFfQg"
      },
      "source": [
        "sedikit atur parameter plot dengan ukuran 12x9 **5 poin**"
      ]
    },
    {
      "cell_type": "code",
      "execution_count": null,
      "metadata": {
        "id": "6mmcWKP27RTw"
      },
      "outputs": [],
      "source": [
        "# TULIS KODE ANDA DISINI\n",
        "import matplotlib.pyplot as plt\n",
        "from matplotlib.pylab import rcParams\n",
        "%matplotlib inline\n",
        "\n",
        "params={'figure.figsize':(12,9)}\n",
        "rcParams.update(params)"
      ]
    },
    {
      "cell_type": "markdown",
      "metadata": {
        "id": "loGIvd3pGL6b"
      },
      "source": [
        "Load dataset dari github dapatkan datasetnya dari link [ini.](https://github.com/hattafudholi/dataset/raw/master/data.csv') **5 poin**"
      ]
    },
    {
      "cell_type": "code",
      "execution_count": null,
      "metadata": {
        "id": "koEUi9NLOvI5",
        "scrolled": true,
        "outputId": "c6e53ea0-c4b1-4004-8e23-71c38799b2ae"
      },
      "outputs": [
        {
          "data": {
            "text/html": [
              "<div>\n",
              "<style scoped>\n",
              "    .dataframe tbody tr th:only-of-type {\n",
              "        vertical-align: middle;\n",
              "    }\n",
              "\n",
              "    .dataframe tbody tr th {\n",
              "        vertical-align: top;\n",
              "    }\n",
              "\n",
              "    .dataframe thead th {\n",
              "        text-align: right;\n",
              "    }\n",
              "</style>\n",
              "<table border=\"1\" class=\"dataframe\">\n",
              "  <thead>\n",
              "    <tr style=\"text-align: right;\">\n",
              "      <th></th>\n",
              "      <th>m</th>\n",
              "      <th>n</th>\n",
              "    </tr>\n",
              "  </thead>\n",
              "  <tbody>\n",
              "    <tr>\n",
              "      <td>0</td>\n",
              "      <td>32.502345</td>\n",
              "      <td>31.707006</td>\n",
              "    </tr>\n",
              "    <tr>\n",
              "      <td>1</td>\n",
              "      <td>53.426804</td>\n",
              "      <td>68.777596</td>\n",
              "    </tr>\n",
              "    <tr>\n",
              "      <td>2</td>\n",
              "      <td>61.530358</td>\n",
              "      <td>62.562382</td>\n",
              "    </tr>\n",
              "    <tr>\n",
              "      <td>3</td>\n",
              "      <td>47.475640</td>\n",
              "      <td>71.546632</td>\n",
              "    </tr>\n",
              "    <tr>\n",
              "      <td>4</td>\n",
              "      <td>59.813208</td>\n",
              "      <td>87.230925</td>\n",
              "    </tr>\n",
              "  </tbody>\n",
              "</table>\n",
              "</div>"
            ],
            "text/plain": [
              "           m          n\n",
              "0  32.502345  31.707006\n",
              "1  53.426804  68.777596\n",
              "2  61.530358  62.562382\n",
              "3  47.475640  71.546632\n",
              "4  59.813208  87.230925"
            ]
          },
          "execution_count": 5,
          "metadata": {},
          "output_type": "execute_result"
        }
      ],
      "source": [
        "# TULIS KODE ANDA DISINI\n",
        "import pandas as pd\n",
        "df = pd.read_csv('https://github.com/hattafudholi/dataset/raw/master/data.csv', names = ['m','n'])\n",
        "df.head()"
      ]
    },
    {
      "cell_type": "markdown",
      "metadata": {
        "id": "aGE6hS4FGvOe"
      },
      "source": [
        "Tampilkan head dan tail dari dataset tersebut **10 poin**"
      ]
    },
    {
      "cell_type": "code",
      "execution_count": null,
      "metadata": {
        "id": "Mk33BEo6OviK",
        "scrolled": true,
        "outputId": "58149284-a0c2-4acc-b6ee-96687e81aed7"
      },
      "outputs": [
        {
          "data": {
            "text/html": [
              "<div>\n",
              "<style scoped>\n",
              "    .dataframe tbody tr th:only-of-type {\n",
              "        vertical-align: middle;\n",
              "    }\n",
              "\n",
              "    .dataframe tbody tr th {\n",
              "        vertical-align: top;\n",
              "    }\n",
              "\n",
              "    .dataframe thead th {\n",
              "        text-align: right;\n",
              "    }\n",
              "</style>\n",
              "<table border=\"1\" class=\"dataframe\">\n",
              "  <thead>\n",
              "    <tr style=\"text-align: right;\">\n",
              "      <th></th>\n",
              "      <th>m</th>\n",
              "      <th>n</th>\n",
              "    </tr>\n",
              "  </thead>\n",
              "  <tbody>\n",
              "    <tr>\n",
              "      <td>0</td>\n",
              "      <td>32.502345</td>\n",
              "      <td>31.707006</td>\n",
              "    </tr>\n",
              "    <tr>\n",
              "      <td>1</td>\n",
              "      <td>53.426804</td>\n",
              "      <td>68.777596</td>\n",
              "    </tr>\n",
              "    <tr>\n",
              "      <td>2</td>\n",
              "      <td>61.530358</td>\n",
              "      <td>62.562382</td>\n",
              "    </tr>\n",
              "    <tr>\n",
              "      <td>3</td>\n",
              "      <td>47.475640</td>\n",
              "      <td>71.546632</td>\n",
              "    </tr>\n",
              "    <tr>\n",
              "      <td>4</td>\n",
              "      <td>59.813208</td>\n",
              "      <td>87.230925</td>\n",
              "    </tr>\n",
              "  </tbody>\n",
              "</table>\n",
              "</div>"
            ],
            "text/plain": [
              "           m          n\n",
              "0  32.502345  31.707006\n",
              "1  53.426804  68.777596\n",
              "2  61.530358  62.562382\n",
              "3  47.475640  71.546632\n",
              "4  59.813208  87.230925"
            ]
          },
          "execution_count": 6,
          "metadata": {},
          "output_type": "execute_result"
        }
      ],
      "source": [
        "# TULIS KODE ANDA DISINI\n",
        "df.head(5)\n"
      ]
    },
    {
      "cell_type": "code",
      "execution_count": null,
      "metadata": {
        "id": "2eTj_sbY8qiq",
        "outputId": "679d4fb3-26fc-44fd-dbed-9495607b54bf"
      },
      "outputs": [
        {
          "data": {
            "text/html": [
              "<div>\n",
              "<style scoped>\n",
              "    .dataframe tbody tr th:only-of-type {\n",
              "        vertical-align: middle;\n",
              "    }\n",
              "\n",
              "    .dataframe tbody tr th {\n",
              "        vertical-align: top;\n",
              "    }\n",
              "\n",
              "    .dataframe thead th {\n",
              "        text-align: right;\n",
              "    }\n",
              "</style>\n",
              "<table border=\"1\" class=\"dataframe\">\n",
              "  <thead>\n",
              "    <tr style=\"text-align: right;\">\n",
              "      <th></th>\n",
              "      <th>m</th>\n",
              "      <th>n</th>\n",
              "    </tr>\n",
              "  </thead>\n",
              "  <tbody>\n",
              "    <tr>\n",
              "      <td>95</td>\n",
              "      <td>50.030174</td>\n",
              "      <td>81.536991</td>\n",
              "    </tr>\n",
              "    <tr>\n",
              "      <td>96</td>\n",
              "      <td>49.239765</td>\n",
              "      <td>72.111832</td>\n",
              "    </tr>\n",
              "    <tr>\n",
              "      <td>97</td>\n",
              "      <td>50.039576</td>\n",
              "      <td>85.232007</td>\n",
              "    </tr>\n",
              "    <tr>\n",
              "      <td>98</td>\n",
              "      <td>48.149859</td>\n",
              "      <td>66.224958</td>\n",
              "    </tr>\n",
              "    <tr>\n",
              "      <td>99</td>\n",
              "      <td>25.128485</td>\n",
              "      <td>53.454394</td>\n",
              "    </tr>\n",
              "  </tbody>\n",
              "</table>\n",
              "</div>"
            ],
            "text/plain": [
              "            m          n\n",
              "95  50.030174  81.536991\n",
              "96  49.239765  72.111832\n",
              "97  50.039576  85.232007\n",
              "98  48.149859  66.224958\n",
              "99  25.128485  53.454394"
            ]
          },
          "execution_count": 7,
          "metadata": {},
          "output_type": "execute_result"
        }
      ],
      "source": [
        "df.tail(5)\n"
      ]
    },
    {
      "cell_type": "markdown",
      "metadata": {
        "id": "zDLJ9jo1G5ew"
      },
      "source": [
        "Tampilkan jumlah baris dari dataset tersebut **5 poin**}"
      ]
    },
    {
      "cell_type": "code",
      "execution_count": null,
      "metadata": {
        "id": "9z5ZC7TGOv2g",
        "outputId": "1125f56f-2822-492a-e517-548b8260c0c3"
      },
      "outputs": [
        {
          "name": "stdout",
          "output_type": "stream",
          "text": [
            "(100, 2)\n"
          ]
        }
      ],
      "source": [
        "# TULIS KODE ANDA DISINI\n",
        "print(df.shape)"
      ]
    },
    {
      "cell_type": "markdown",
      "metadata": {
        "id": "rSVx7u_sHGQr"
      },
      "source": [
        "Definisikan fitur x dan y dari datset tersebut. Dimana data target class adalah kolom 1. **10 poin**"
      ]
    },
    {
      "cell_type": "code",
      "execution_count": null,
      "metadata": {
        "id": "kMtIpl58OwQH"
      },
      "outputs": [],
      "source": [
        "# TULIS KODE ANDA DISINI\n",
        "x = df['m'].values.reshape(-1,1)\n",
        "y = df['n'].values.reshape(-1,1)"
      ]
    },
    {
      "cell_type": "markdown",
      "metadata": {
        "id": "xTQs3nUDHbC0"
      },
      "source": [
        "Buatlah scatter plot dari data tersebut. **10 poin**"
      ]
    },
    {
      "cell_type": "markdown",
      "metadata": {
        "id": "MJ23TCfBO6Ph"
      },
      "source": [
        "**Hasil Scatter Plot**\n",
        "\n",
        "<img src = \"https://i.ibb.co/mzrvJ0h/download-1.png\" align = \"center\">"
      ]
    },
    {
      "cell_type": "code",
      "execution_count": null,
      "metadata": {
        "id": "ImtY2xrdOwgC",
        "outputId": "713694ba-9263-41f6-f4e1-698fe4126ecd"
      },
      "outputs": [
        {
          "data": {
            "image/png": "[encoded data removed]",
            "text/plain": [
              "<Figure size 864x648 with 1 Axes>"
            ]
          },
          "metadata": {
            "needs_background": "light"
          },
          "output_type": "display_data"
        }
      ],
      "source": [
        "# TULIS KODE ANDA DISINI\n",
        "plt.scatter(x, y)\n",
        "plt.show()"
      ]
    },
    {
      "cell_type": "markdown",
      "metadata": {
        "id": "D0T-ot0yHmxb"
      },
      "source": [
        "Sekarang lakukan metode linear regression manual dengan mendefinisikan iterasi sebesar `25` , learning rate sebesar `0.0001` kemudian nilai a b = 0 dan nilai n sebesar nilai float dari panjang data x. Kemudian tampilkan scatter plot dan juga linear line setiap iterasinya**30 poin**"
      ]
    },
    {
      "cell_type": "markdown",
      "metadata": {
        "id": "cye74U-pO-o2"
      },
      "source": [
        "**Hasil Scatter Plot dan Linier Line**\n",
        "\n",
        "<img src = \"https://i.ibb.co/T2Jjs9M/download-2.png\" align = \"center\">"
      ]
    },
    {
      "cell_type": "code",
      "execution_count": null,
      "metadata": {
        "id": "yCTcT5y_ChzI"
      },
      "outputs": [],
      "source": [
        "# TULIS KODE ANDA DISINI\n",
        "a = 0\n",
        "b = 0\n",
        "L = 0.0001 #learning rate\n",
        "epochs = 2 #jumlah iterasi\n"
      ]
    },
    {
      "cell_type": "markdown",
      "metadata": {
        "id": "TLNXTkuHKS82"
      },
      "source": [
        "Gunakan libary `sklearn.linear_model.LinearRegression` untuk melakukan regresi linier dan gunakan data csv yang telah anda muat diatas sebelumnya. Tampilkan scatter plot dan juga garis best fitting line nya **25 poin**"
      ]
    },
    {
      "cell_type": "markdown",
      "metadata": {
        "id": "SKNupneTPbPf"
      },
      "source": [
        "**Hasil Scatter Plot dan Best Fitting Line**\n",
        "\n",
        "<img src = \"https://i.ibb.co/b6kgQJS/download.png\" align = \"center\">"
      ]
    },
    {
      "cell_type": "code",
      "execution_count": null,
      "metadata": {
        "id": "TPlsp1ryJTeC",
        "outputId": "7c5590b1-33b1-4c43-c209-61b1ecf5ad3d"
      },
      "outputs": [
        {
          "name": "stdout",
          "output_type": "stream",
          "text": [
            "x :  [[1.31582425]]\n",
            "y :  [8.55160605]\n"
          ]
        },
        {
          "data": {
            "image/png": "[encoded data removed]",
            "text/plain": [
              "<Figure size 864x648 with 1 Axes>"
            ]
          },
          "metadata": {
            "needs_background": "light"
          },
          "output_type": "display_data"
        }
      ],
      "source": [
        "from sklearn.linear_model import LinearRegression\n",
        "\n",
        "# TULIS KODE ANDA DISINI\n",
        "import numpy as np\n",
        "\n",
        "\n",
        "cdf = df[['m','n']]\n",
        "# split data into train/test\n",
        "msk = np.random.rand(len(df)) < 0.8\n",
        "train = cdf[msk]\n",
        "test = cdf[~msk]\n",
        "\n",
        "\n",
        "\n",
        "plt.scatter(train.m, train.n)\n",
        "\n",
        "regr = LinearRegression()\n",
        "\n",
        "# definisi variabel independen x dan variabel dependen y\n",
        "train_x = np.asanyarray(train[['m']])\n",
        "train_y = np.asanyarray(train[['n']])\n",
        "\n",
        "# fit data train\n",
        "regr.fit (train_x, train_y)\n",
        "\n",
        "print ('x : ', regr.coef_)\n",
        "print ('y : ',regr.intercept_)\n",
        "#visualisasi hasil prediksi\n",
        "plt.scatter(train.m, train.n,color='blue')\n",
        "plt.plot(train_x, regr.coef_[0][0]*train_x + regr.intercept_[0], '-r')\n",
        "plt.show()"
      ]
    },
    {
      "cell_type": "code",
      "execution_count": null,
      "metadata": {
        "id": "TicUrKj38qjP"
      },
      "outputs": [],
      "source": [
        ""
      ]
    },
    {
      "cell_type": "code",
      "execution_count": null,
      "metadata": {
        "id": "0IseZF-m8qjR"
      },
      "outputs": [],
      "source": [
        ""
      ]
    }
  ],
  "metadata": {
    "colab": {
      "collapsed_sections": [],
      "name": "Linear Regression.ipynb",
      "provenance": []
    },
    "kernelspec": {
      "display_name": "Python 3",
      "language": "python",
      "name": "python3"
    },
    "language_info": {
      "codemirror_mode": {
        "name": "ipython",
        "version": 3
      },
      "file_extension": ".py",
      "mimetype": "text/x-python",
      "name": "python",
      "nbconvert_exporter": "python",
      "pygments_lexer": "ipython3",
      "version": "3.7.4"
    }
  },
  "nbformat": 4,
  "nbformat_minor": 0
}