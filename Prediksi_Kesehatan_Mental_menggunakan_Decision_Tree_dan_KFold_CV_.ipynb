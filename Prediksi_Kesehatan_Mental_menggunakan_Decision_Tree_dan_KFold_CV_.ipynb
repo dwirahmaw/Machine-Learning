{
  "nbformat": 4,
  "nbformat_minor": 0,
  "metadata": {
    "kernelspec": {
      "display_name": "Python 3",
      "language": "python",
      "name": "python3"
    },
    "language_info": {
      "codemirror_mode": {
        "name": "ipython",
        "version": 3
      },
      "file_extension": ".py",
      "mimetype": "text/x-python",
      "name": "python",
      "nbconvert_exporter": "python",
      "pygments_lexer": "ipython3",
      "version": "3.8.3"
    },
    "colab": {
      "name": "Prediksi Kesehatan Mental menggunakan Decision Tree dan KFold CV .ipynb",
      "provenance": [],
      "collapsed_sections": []
    }
  },
  "cells": [
    {
      "cell_type": "code",
      "metadata": {
        "id": "we9k31sfHeLT",
        "colab": {
          "base_uri": "https://localhost:8080/"
        },
        "outputId": "ef0afc65-0454-4c6c-fd85-9a687dff948e"
      },
      "source": [
        "from google.colab import drive\n",
        "drive.mount('/content/drive')"
      ],
      "execution_count": null,
      "outputs": [
        {
          "output_type": "stream",
          "name": "stdout",
          "text": [
            "Drive already mounted at /content/drive; to attempt to forcibly remount, call drive.mount(\"/content/drive\", force_remount=True).\n"
          ]
        }
      ]
    },
    {
      "cell_type": "code",
      "metadata": {
        "scrolled": true,
        "colab": {
          "base_uri": "https://localhost:8080/"
        },
        "id": "7u-zbQlGI6or",
        "outputId": "91fc9172-00d3-4110-b34b-a8738ae1f800"
      },
      "source": [
        "import pandas as pd\n",
        "from sklearn.tree import DecisionTreeClassifier\n",
        "from sklearn.metrics import accuracy_score\n",
        "import matplotlib.pyplot as plt\n",
        "import numpy as np\n",
        "import seaborn as sns\n",
        "import matplotlib.pyplot as plt\n",
        "from sklearn.model_selection import train_test_split\n",
        "from sklearn import tree\n",
        "\n",
        "# Validation libraries\n",
        "from sklearn import metrics\n",
        "from sklearn.metrics import accuracy_score, mean_squared_error\n",
        "from sklearn.metrics import precision_recall_curve\n",
        "from sklearn.model_selection import cross_val_score\n",
        "# models\n",
        "import random\n",
        "survey = pd.read_csv('/content/drive/MyDrive/dataset/survey.csv')\n",
        "print(survey.head(5))\n"
      ],
      "execution_count": null,
      "outputs": [
        {
          "output_type": "stream",
          "name": "stdout",
          "text": [
            "             Timestamp  Age  Gender  ... mental_vs_physical obs_consequence comments\n",
            "0  2014-08-27 11:29:31   37  Female  ...                Yes              No      NaN\n",
            "1  2014-08-27 11:29:37   44       M  ...         Don't know              No      NaN\n",
            "2  2014-08-27 11:29:44   32    Male  ...                 No              No      NaN\n",
            "3  2014-08-27 11:29:46   31    Male  ...                 No             Yes      NaN\n",
            "4  2014-08-27 11:30:22   31    Male  ...         Don't know              No      NaN\n",
            "\n",
            "[5 rows x 27 columns]\n"
          ]
        }
      ]
    },
    {
      "cell_type": "markdown",
      "metadata": {
        "id": "fhngjG3FKLVd"
      },
      "source": [
        "**Pre**-**Processing**"
      ]
    },
    {
      "cell_type": "code",
      "metadata": {
        "colab": {
          "base_uri": "https://localhost:8080/"
        },
        "id": "RRxVZ2TCRrtO",
        "outputId": "6b224297-d308-416b-ea0f-1f869c835fd5"
      },
      "source": [
        "#Menghapus beberapa kolom\n",
        "\n",
        "survey = pd.read_csv('/content/drive/MyDrive/dataset/survey.csv')\n",
        "survey  = survey.drop(['state','self_employed','family_history', \n",
        "                       'care_options', 'leave', 'anonymity', 'coworkers',\n",
        "                       'supervisor', 'mental_health_interview', \n",
        "                       'phys_health_interview', 'seek_help', \n",
        "                       'phys_health_consequence', 'mental_vs_physical', \n",
        "                       'obs_consequence', 'comments'],axis=1)\n",
        "\n",
        "survey = pd.DataFrame(survey) \n",
        "print(survey.head(5))\n"
      ],
      "execution_count": null,
      "outputs": [
        {
          "output_type": "stream",
          "name": "stdout",
          "text": [
            "             Timestamp  Age  ... wellness_program mental_health_consequence\n",
            "0  2014-08-27 11:29:31   37  ...               No                        No\n",
            "1  2014-08-27 11:29:37   44  ...       Don't know                     Maybe\n",
            "2  2014-08-27 11:29:44   32  ...               No                        No\n",
            "3  2014-08-27 11:29:46   31  ...               No                       Yes\n",
            "4  2014-08-27 11:30:22   31  ...       Don't know                        No\n",
            "\n",
            "[5 rows x 12 columns]\n"
          ]
        }
      ]
    },
    {
      "cell_type": "code",
      "metadata": {
        "colab": {
          "base_uri": "https://localhost:8080/"
        },
        "id": "Eh8tbgrMI6o_",
        "outputId": "992ddfc9-68d2-4927-a576-5480bc797577"
      },
      "source": [
        "\n",
        "#Combining missing values in work_interference with \"never\"\n",
        "survey['work_interfere'].fillna(value = 'Never', inplace = True)\n",
        "print(survey.count())\n",
        "\n"
      ],
      "execution_count": null,
      "outputs": [
        {
          "output_type": "stream",
          "name": "stdout",
          "text": [
            "Timestamp                    1259\n",
            "Age                          1259\n",
            "Gender                       1259\n",
            "Country                      1259\n",
            "treatment                    1259\n",
            "work_interfere               1259\n",
            "no_employees                 1259\n",
            "remote_work                  1259\n",
            "tech_company                 1259\n",
            "benefits                     1259\n",
            "wellness_program             1259\n",
            "mental_health_consequence    1259\n",
            "dtype: int64\n"
          ]
        }
      ]
    },
    {
      "cell_type": "code",
      "metadata": {
        "id": "6ppVQNdnI6pB"
      },
      "source": [
        "##GENDER\n",
        "survey['Gender'].value_counts()\n",
        "\n",
        "#male\n",
        "survey['Gender'] = survey['Gender'].replace(['male','M','m','Make', 'Man', \n",
        "                                             'Maile', 'maile', 'Malr', 'Maile', \n",
        "                                             'Mail', 'msle', 'Mal',\n",
        "                                             'Male '], 'Male')\n",
        "#female\n",
        "survey['Gender'] = survey['Gender'].replace(['female','F','f','Woman','femail',\n",
        "                                             'woman', 'Man', 'Maile', 'Malr', \n",
        "                                             'Female ', 'Femake' ], 'Female')\n",
        "#trans\n",
        "survey['Gender'] = survey['Gender'].replace(['Cis Female', 'Female (trans)',\n",
        "                                             'Cis Male','Guy (-ish) ^_^',\n",
        "                                             'Male-ish','non-binary',\n",
        "                                             'queer/she/they', \n",
        "                                             'Trans-female', 'fluid', 'queer',\n",
        "                                             'cis male', 'All','Trans woman',\n",
        "                                             'Agender','ostensibly male',\n",
        "                                             'unsure what that really means',\n",
        "                                             'Male (CIS)',\n",
        "                                             'male leaning androgynous',\n",
        "                                             'cis-female/femme', 'p', \n",
        "                                             'Genderqueer', 'Neuter', \n",
        "                                             'Enby', 'Androgyne', 'Nah',\n",
        "                                             'Female (cis)', 'Cis Man', \n",
        "                                             'something kinda male?', \n",
        "                                             'A little about you' ], 'trans')\n"
      ],
      "execution_count": null,
      "outputs": []
    },
    {
      "cell_type": "code",
      "metadata": {
        "colab": {
          "base_uri": "https://localhost:8080/"
        },
        "id": "eSGqd5XF1cGN",
        "outputId": "c71e2084-8f05-48d6-ed71-f2834528cba2"
      },
      "source": [
        "##AGE\n",
        "print(survey['Age'].unique())\n",
        "\n",
        "#delete ages less than 0 and greater than 100\n",
        "survey.drop(survey[survey['Age'] < 0].index, inplace = True) \n",
        "survey.drop(survey[survey['Age'] > 100].index, inplace = True)\n",
        "\n"
      ],
      "execution_count": null,
      "outputs": [
        {
          "output_type": "stream",
          "name": "stdout",
          "text": [
            "[         37          44          32          31          33          35\n",
            "          39          42          23          29          36          27\n",
            "          46          41          34          30          40          38\n",
            "          50          24          18          28          26          22\n",
            "          19          25          45          21         -29          43\n",
            "          56          60          54         329          55 99999999999\n",
            "          48          20          57          58          47          62\n",
            "          51          65          49       -1726           5          53\n",
            "          61           8          11          -1          72]\n"
          ]
        }
      ]
    },
    {
      "cell_type": "markdown",
      "metadata": {
        "id": "YPI6uoes295-"
      },
      "source": [
        ""
      ]
    },
    {
      "cell_type": "code",
      "metadata": {
        "colab": {
          "base_uri": "https://localhost:8080/",
          "height": 416
        },
        "id": "DDukTF-t2-yk",
        "outputId": "d334b87f-ba2d-4616-bdcd-e633593870ef"
      },
      "source": [
        "#missing data\n",
        "total = survey.isnull().sum().sort_values(ascending=False)\n",
        "percent = (survey.isnull().sum()/survey.isnull().count()).sort_values(ascending=False)\n",
        "missing_data = pd.concat([total, percent], axis=1, keys=['Total', 'Percent'])\n",
        "\n",
        "missing_data.head(20)"
      ],
      "execution_count": null,
      "outputs": [
        {
          "output_type": "execute_result",
          "data": {
            "text/html": [
              "<div>\n",
              "<style scoped>\n",
              "    .dataframe tbody tr th:only-of-type {\n",
              "        vertical-align: middle;\n",
              "    }\n",
              "\n",
              "    .dataframe tbody tr th {\n",
              "        vertical-align: top;\n",
              "    }\n",
              "\n",
              "    .dataframe thead th {\n",
              "        text-align: right;\n",
              "    }\n",
              "</style>\n",
              "<table border=\"1\" class=\"dataframe\">\n",
              "  <thead>\n",
              "    <tr style=\"text-align: right;\">\n",
              "      <th></th>\n",
              "      <th>Total</th>\n",
              "      <th>Percent</th>\n",
              "    </tr>\n",
              "  </thead>\n",
              "  <tbody>\n",
              "    <tr>\n",
              "      <th>mental_health_consequence</th>\n",
              "      <td>0</td>\n",
              "      <td>0.0</td>\n",
              "    </tr>\n",
              "    <tr>\n",
              "      <th>wellness_program</th>\n",
              "      <td>0</td>\n",
              "      <td>0.0</td>\n",
              "    </tr>\n",
              "    <tr>\n",
              "      <th>benefits</th>\n",
              "      <td>0</td>\n",
              "      <td>0.0</td>\n",
              "    </tr>\n",
              "    <tr>\n",
              "      <th>tech_company</th>\n",
              "      <td>0</td>\n",
              "      <td>0.0</td>\n",
              "    </tr>\n",
              "    <tr>\n",
              "      <th>remote_work</th>\n",
              "      <td>0</td>\n",
              "      <td>0.0</td>\n",
              "    </tr>\n",
              "    <tr>\n",
              "      <th>no_employees</th>\n",
              "      <td>0</td>\n",
              "      <td>0.0</td>\n",
              "    </tr>\n",
              "    <tr>\n",
              "      <th>work_interfere</th>\n",
              "      <td>0</td>\n",
              "      <td>0.0</td>\n",
              "    </tr>\n",
              "    <tr>\n",
              "      <th>treatment</th>\n",
              "      <td>0</td>\n",
              "      <td>0.0</td>\n",
              "    </tr>\n",
              "    <tr>\n",
              "      <th>Country</th>\n",
              "      <td>0</td>\n",
              "      <td>0.0</td>\n",
              "    </tr>\n",
              "    <tr>\n",
              "      <th>Gender</th>\n",
              "      <td>0</td>\n",
              "      <td>0.0</td>\n",
              "    </tr>\n",
              "    <tr>\n",
              "      <th>Age</th>\n",
              "      <td>0</td>\n",
              "      <td>0.0</td>\n",
              "    </tr>\n",
              "    <tr>\n",
              "      <th>Timestamp</th>\n",
              "      <td>0</td>\n",
              "      <td>0.0</td>\n",
              "    </tr>\n",
              "  </tbody>\n",
              "</table>\n",
              "</div>"
            ],
            "text/plain": [
              "                           Total  Percent\n",
              "mental_health_consequence      0      0.0\n",
              "wellness_program               0      0.0\n",
              "benefits                       0      0.0\n",
              "tech_company                   0      0.0\n",
              "remote_work                    0      0.0\n",
              "no_employees                   0      0.0\n",
              "work_interfere                 0      0.0\n",
              "treatment                      0      0.0\n",
              "Country                        0      0.0\n",
              "Gender                         0      0.0\n",
              "Age                            0      0.0\n",
              "Timestamp                      0      0.0"
            ]
          },
          "metadata": {},
          "execution_count": 54
        }
      ]
    },
    {
      "cell_type": "markdown",
      "metadata": {
        "id": "jNSRq8tfLouW"
      },
      "source": [
        "**Encoding Data**"
      ]
    },
    {
      "cell_type": "code",
      "metadata": {
        "colab": {
          "base_uri": "https://localhost:8080/",
          "height": 202
        },
        "id": "HIKVER9OI6pY",
        "outputId": "3b61e897-4565-4376-97be-f23abf330eeb"
      },
      "source": [
        "#Data sebelum di encoding\n",
        "survey.head(5)"
      ],
      "execution_count": null,
      "outputs": [
        {
          "output_type": "execute_result",
          "data": {
            "text/html": [
              "<div>\n",
              "<style scoped>\n",
              "    .dataframe tbody tr th:only-of-type {\n",
              "        vertical-align: middle;\n",
              "    }\n",
              "\n",
              "    .dataframe tbody tr th {\n",
              "        vertical-align: top;\n",
              "    }\n",
              "\n",
              "    .dataframe thead th {\n",
              "        text-align: right;\n",
              "    }\n",
              "</style>\n",
              "<table border=\"1\" class=\"dataframe\">\n",
              "  <thead>\n",
              "    <tr style=\"text-align: right;\">\n",
              "      <th></th>\n",
              "      <th>Timestamp</th>\n",
              "      <th>Age</th>\n",
              "      <th>Gender</th>\n",
              "      <th>Country</th>\n",
              "      <th>treatment</th>\n",
              "      <th>work_interfere</th>\n",
              "      <th>no_employees</th>\n",
              "      <th>remote_work</th>\n",
              "      <th>tech_company</th>\n",
              "      <th>benefits</th>\n",
              "      <th>wellness_program</th>\n",
              "      <th>mental_health_consequence</th>\n",
              "    </tr>\n",
              "  </thead>\n",
              "  <tbody>\n",
              "    <tr>\n",
              "      <th>0</th>\n",
              "      <td>2014-08-27 11:29:31</td>\n",
              "      <td>37</td>\n",
              "      <td>Female</td>\n",
              "      <td>United States</td>\n",
              "      <td>Yes</td>\n",
              "      <td>Often</td>\n",
              "      <td>6-25</td>\n",
              "      <td>No</td>\n",
              "      <td>Yes</td>\n",
              "      <td>Yes</td>\n",
              "      <td>No</td>\n",
              "      <td>No</td>\n",
              "    </tr>\n",
              "    <tr>\n",
              "      <th>1</th>\n",
              "      <td>2014-08-27 11:29:37</td>\n",
              "      <td>44</td>\n",
              "      <td>Male</td>\n",
              "      <td>United States</td>\n",
              "      <td>No</td>\n",
              "      <td>Rarely</td>\n",
              "      <td>More than 1000</td>\n",
              "      <td>No</td>\n",
              "      <td>No</td>\n",
              "      <td>Don't know</td>\n",
              "      <td>Don't know</td>\n",
              "      <td>Maybe</td>\n",
              "    </tr>\n",
              "    <tr>\n",
              "      <th>2</th>\n",
              "      <td>2014-08-27 11:29:44</td>\n",
              "      <td>32</td>\n",
              "      <td>Male</td>\n",
              "      <td>Canada</td>\n",
              "      <td>No</td>\n",
              "      <td>Rarely</td>\n",
              "      <td>6-25</td>\n",
              "      <td>No</td>\n",
              "      <td>Yes</td>\n",
              "      <td>No</td>\n",
              "      <td>No</td>\n",
              "      <td>No</td>\n",
              "    </tr>\n",
              "    <tr>\n",
              "      <th>3</th>\n",
              "      <td>2014-08-27 11:29:46</td>\n",
              "      <td>31</td>\n",
              "      <td>Male</td>\n",
              "      <td>United Kingdom</td>\n",
              "      <td>Yes</td>\n",
              "      <td>Often</td>\n",
              "      <td>26-100</td>\n",
              "      <td>No</td>\n",
              "      <td>Yes</td>\n",
              "      <td>No</td>\n",
              "      <td>No</td>\n",
              "      <td>Yes</td>\n",
              "    </tr>\n",
              "    <tr>\n",
              "      <th>4</th>\n",
              "      <td>2014-08-27 11:30:22</td>\n",
              "      <td>31</td>\n",
              "      <td>Male</td>\n",
              "      <td>United States</td>\n",
              "      <td>No</td>\n",
              "      <td>Never</td>\n",
              "      <td>100-500</td>\n",
              "      <td>Yes</td>\n",
              "      <td>Yes</td>\n",
              "      <td>Yes</td>\n",
              "      <td>Don't know</td>\n",
              "      <td>No</td>\n",
              "    </tr>\n",
              "  </tbody>\n",
              "</table>\n",
              "</div>"
            ],
            "text/plain": [
              "             Timestamp  Age  ... wellness_program mental_health_consequence\n",
              "0  2014-08-27 11:29:31   37  ...               No                        No\n",
              "1  2014-08-27 11:29:37   44  ...       Don't know                     Maybe\n",
              "2  2014-08-27 11:29:44   32  ...               No                        No\n",
              "3  2014-08-27 11:29:46   31  ...               No                       Yes\n",
              "4  2014-08-27 11:30:22   31  ...       Don't know                        No\n",
              "\n",
              "[5 rows x 12 columns]"
            ]
          },
          "metadata": {},
          "execution_count": 55
        }
      ]
    },
    {
      "cell_type": "code",
      "metadata": {
        "colab": {
          "base_uri": "https://localhost:8080/",
          "height": 202
        },
        "id": "zRO-g1t_I6pc",
        "outputId": "5600bfe5-5b69-4c1f-ee5f-5d86b68e5bd2"
      },
      "source": [
        "from sklearn.preprocessing import LabelEncoder\n",
        "le = LabelEncoder()\n",
        "\n",
        "#GENDER\n",
        "#Female:0, trans:1, Male:2\n",
        "survey['Gender'] = le.fit_transform(survey['Gender'])\n",
        "\n",
        "#TREATMENT\n",
        "#Yes:1, No:0\n",
        "survey['treatment'] = le.fit_transform(survey['treatment'])\n",
        "\n",
        "#TECH COMPANY\n",
        "#Yes:1, No:0\n",
        "survey['tech_company'] = le.fit_transform(survey['tech_company'])\n",
        "\n",
        "#BENEFITS\n",
        "#Yes:2, No:1, Don't Know:0\n",
        "survey['benefits'] = le.fit_transform(survey['benefits'])\n",
        "\n",
        "#WELLNESS PROGRAM\n",
        "#Yes:2, No:1, Don't Know: 0\n",
        "survey['wellness_program'] = le.fit_transform(survey['wellness_program'])\n",
        "\n",
        "#MENTAL HEALTH CONSEQUENCES\n",
        "#Yes:2, No:1, Maybe: 0\n",
        "survey['mental_health_consequence'] = le.fit_transform(survey['mental_health_consequence'])\n",
        "\n",
        "#REMOTE WORK\n",
        "#Yes:2, No:1\n",
        "survey['remote_work'] = le.fit_transform(survey['remote_work'])\n",
        "\n",
        "#WORK INTERFERE\n",
        "#Often:1, Rare:2, Sometimes:3, Never:0\n",
        "survey['work_interfere'] = le.fit_transform(survey['work_interfere'])\n",
        "\n",
        "survey.head(5)\n",
        "\n"
      ],
      "execution_count": null,
      "outputs": [
        {
          "output_type": "execute_result",
          "data": {
            "text/html": [
              "<div>\n",
              "<style scoped>\n",
              "    .dataframe tbody tr th:only-of-type {\n",
              "        vertical-align: middle;\n",
              "    }\n",
              "\n",
              "    .dataframe tbody tr th {\n",
              "        vertical-align: top;\n",
              "    }\n",
              "\n",
              "    .dataframe thead th {\n",
              "        text-align: right;\n",
              "    }\n",
              "</style>\n",
              "<table border=\"1\" class=\"dataframe\">\n",
              "  <thead>\n",
              "    <tr style=\"text-align: right;\">\n",
              "      <th></th>\n",
              "      <th>Timestamp</th>\n",
              "      <th>Age</th>\n",
              "      <th>Gender</th>\n",
              "      <th>Country</th>\n",
              "      <th>treatment</th>\n",
              "      <th>work_interfere</th>\n",
              "      <th>no_employees</th>\n",
              "      <th>remote_work</th>\n",
              "      <th>tech_company</th>\n",
              "      <th>benefits</th>\n",
              "      <th>wellness_program</th>\n",
              "      <th>mental_health_consequence</th>\n",
              "    </tr>\n",
              "  </thead>\n",
              "  <tbody>\n",
              "    <tr>\n",
              "      <th>0</th>\n",
              "      <td>2014-08-27 11:29:31</td>\n",
              "      <td>37</td>\n",
              "      <td>0</td>\n",
              "      <td>United States</td>\n",
              "      <td>1</td>\n",
              "      <td>1</td>\n",
              "      <td>6-25</td>\n",
              "      <td>0</td>\n",
              "      <td>1</td>\n",
              "      <td>2</td>\n",
              "      <td>1</td>\n",
              "      <td>1</td>\n",
              "    </tr>\n",
              "    <tr>\n",
              "      <th>1</th>\n",
              "      <td>2014-08-27 11:29:37</td>\n",
              "      <td>44</td>\n",
              "      <td>1</td>\n",
              "      <td>United States</td>\n",
              "      <td>0</td>\n",
              "      <td>2</td>\n",
              "      <td>More than 1000</td>\n",
              "      <td>0</td>\n",
              "      <td>0</td>\n",
              "      <td>0</td>\n",
              "      <td>0</td>\n",
              "      <td>0</td>\n",
              "    </tr>\n",
              "    <tr>\n",
              "      <th>2</th>\n",
              "      <td>2014-08-27 11:29:44</td>\n",
              "      <td>32</td>\n",
              "      <td>1</td>\n",
              "      <td>Canada</td>\n",
              "      <td>0</td>\n",
              "      <td>2</td>\n",
              "      <td>6-25</td>\n",
              "      <td>0</td>\n",
              "      <td>1</td>\n",
              "      <td>1</td>\n",
              "      <td>1</td>\n",
              "      <td>1</td>\n",
              "    </tr>\n",
              "    <tr>\n",
              "      <th>3</th>\n",
              "      <td>2014-08-27 11:29:46</td>\n",
              "      <td>31</td>\n",
              "      <td>1</td>\n",
              "      <td>United Kingdom</td>\n",
              "      <td>1</td>\n",
              "      <td>1</td>\n",
              "      <td>26-100</td>\n",
              "      <td>0</td>\n",
              "      <td>1</td>\n",
              "      <td>1</td>\n",
              "      <td>1</td>\n",
              "      <td>2</td>\n",
              "    </tr>\n",
              "    <tr>\n",
              "      <th>4</th>\n",
              "      <td>2014-08-27 11:30:22</td>\n",
              "      <td>31</td>\n",
              "      <td>1</td>\n",
              "      <td>United States</td>\n",
              "      <td>0</td>\n",
              "      <td>0</td>\n",
              "      <td>100-500</td>\n",
              "      <td>1</td>\n",
              "      <td>1</td>\n",
              "      <td>2</td>\n",
              "      <td>0</td>\n",
              "      <td>1</td>\n",
              "    </tr>\n",
              "  </tbody>\n",
              "</table>\n",
              "</div>"
            ],
            "text/plain": [
              "             Timestamp  Age  ...  wellness_program mental_health_consequence\n",
              "0  2014-08-27 11:29:31   37  ...                 1                         1\n",
              "1  2014-08-27 11:29:37   44  ...                 0                         0\n",
              "2  2014-08-27 11:29:44   32  ...                 1                         1\n",
              "3  2014-08-27 11:29:46   31  ...                 1                         2\n",
              "4  2014-08-27 11:30:22   31  ...                 0                         1\n",
              "\n",
              "[5 rows x 12 columns]"
            ]
          },
          "metadata": {},
          "execution_count": 56
        }
      ]
    },
    {
      "cell_type": "markdown",
      "metadata": {
        "id": "k2_5mw-ZI6pb"
      },
      "source": [
        "**Model**"
      ]
    },
    {
      "cell_type": "code",
      "metadata": {
        "id": "4PjgbNrDI6pf"
      },
      "source": [
        "#split the training and test data\n",
        "from sklearn.model_selection import train_test_split\n",
        "\n",
        "x = survey.drop(['Timestamp','Age', 'Country', 'treatment', 'no_employees'],\n",
        "                axis=1)\n",
        "y = survey[\"treatment\"]\n",
        "x_train, x_test, y_train, y_test = train_test_split(x, y, test_size = 0.2,\n",
        "                                                    random_state = 1)"
      ],
      "execution_count": null,
      "outputs": []
    },
    {
      "cell_type": "code",
      "metadata": {
        "colab": {
          "base_uri": "https://localhost:8080/"
        },
        "id": "vNRkC27GaP8p",
        "outputId": "4a2b8878-2478-4dc1-a137-59a7b172b80d"
      },
      "source": [
        "from sklearn.model_selection import GridSearchCV\n",
        "param_grid={'max_depth' : np.arange(1,30),'criterion':('gini','entropy')}\n",
        "treee = GridSearchCV(DecisionTreeClassifier(), param_grid, cv=3)\n",
        "treee.fit(x_train, y_train)\n",
        "treee.best_params_"
      ],
      "execution_count": null,
      "outputs": [
        {
          "output_type": "execute_result",
          "data": {
            "text/plain": [
              "{'criterion': 'gini', 'max_depth': 1}"
            ]
          },
          "metadata": {},
          "execution_count": 58
        }
      ]
    },
    {
      "cell_type": "code",
      "metadata": {
        "colab": {
          "base_uri": "https://localhost:8080/"
        },
        "id": "4qAxHMs62cPb",
        "outputId": "cf1e02c7-55bc-42f2-c73f-c4a360a8a25a"
      },
      "source": [
        "treee.best_estimator_"
      ],
      "execution_count": null,
      "outputs": [
        {
          "output_type": "execute_result",
          "data": {
            "text/plain": [
              "DecisionTreeClassifier(ccp_alpha=0.0, class_weight=None, criterion='gini',\n",
              "                       max_depth=1, max_features=None, max_leaf_nodes=None,\n",
              "                       min_impurity_decrease=0.0, min_impurity_split=None,\n",
              "                       min_samples_leaf=1, min_samples_split=2,\n",
              "                       min_weight_fraction_leaf=0.0, presort='deprecated',\n",
              "                       random_state=None, splitter='best')"
            ]
          },
          "metadata": {},
          "execution_count": 59
        }
      ]
    },
    {
      "cell_type": "code",
      "metadata": {
        "id": "CAfnJ3KNdFEN",
        "colab": {
          "base_uri": "https://localhost:8080/",
          "height": 247
        },
        "outputId": "1043e068-d6bd-47a6-b5ed-88ffa68ca5ea"
      },
      "source": [
        "#default Decision tree hyperparameters\n",
        "dt = DecisionTreeClassifier(max_depth=1, criterion='gini')\n",
        "dt.fit(x_train, y_train)\n",
        "y_pred =dt.predict(x_test)\n",
        "tree.plot_tree(dt);\n",
        "fig.savefig('imagename.svg')"
      ],
      "execution_count": null,
      "outputs": [
        {
          "output_type": "display_data",
          "data": {
            "image/png": "[encoded data removed]",
            "text/plain": [
              "<Figure size 432x288 with 1 Axes>"
            ]
          },
          "metadata": {
            "needs_background": "light"
          }
        }
      ]
    },
    {
      "cell_type": "code",
      "metadata": {
        "colab": {
          "base_uri": "https://localhost:8080/",
          "height": 413
        },
        "id": "-0h1EOCYaOLC",
        "outputId": "5ece88cd-351b-4c71-c42f-193936377942"
      },
      "source": [
        "#confusion Matrix\n",
        "cnf_matrix = metrics.confusion_matrix(y_test, y_pred)\n",
        "cnf_matrix\n",
        "\n",
        "class_names=[0,1] # name  of classes\n",
        "fig, ax = plt.subplots()\n",
        "tick_marks = np.arange(len(class_names))\n",
        "plt.xticks(tick_marks, class_names)\n",
        "plt.yticks(tick_marks, class_names)\n",
        "# create heatmap\n",
        "sns.heatmap(pd.DataFrame(cnf_matrix), annot=True, \n",
        "            cmap=\"YlGnBu\" ,fmt='g')\n",
        "ax.xaxis.set_label_position(\"top\")\n",
        "plt.tight_layout()\n",
        "plt.title('Confusion matrix', y=1.1)\n",
        "plt.ylabel('Actual label')\n",
        "plt.xlabel('Predicted label')\n",
        "\n",
        "print(\"Classification Report\")\n",
        "print(\"Accuracy:\",metrics.accuracy_score(y_test, y_pred))\n",
        "print(\"Precision:\",metrics.precision_score(y_test, y_pred))\n",
        "print(\"Recall:\",metrics.recall_score(y_test, y_pred))\n",
        "print(\"F1_Score:\",metrics.f1_score(y_test, y_pred))"
      ],
      "execution_count": null,
      "outputs": [
        {
          "output_type": "stream",
          "name": "stdout",
          "text": [
            "Classification Report\n",
            "Accuracy: 0.8446215139442231\n",
            "Precision: 0.7814569536423841\n",
            "Recall: 0.9516129032258065\n",
            "F1_Score: 0.8581818181818183\n"
          ]
        },
        {
          "output_type": "display_data",
          "data": {
            "image/png": "[encoded data removed]",
            "text/plain": [
              "<Figure size 432x288 with 2 Axes>"
            ]
          },
          "metadata": {
            "needs_background": "light"
          }
        }
      ]
    },
    {
      "cell_type": "code",
      "metadata": {
        "id": "-zg6Csaf8HHS",
        "colab": {
          "base_uri": "https://localhost:8080/"
        },
        "outputId": "fbb8608e-6477-4b51-db19-e54ba715a433"
      },
      "source": [
        "#Menghitung akurasi dengan Cross Validation\n",
        "print('Cross-validated AUC tree:', cross_val_score(dt, x, y, cv=3, \n",
        "                                                   scoring='roc_auc').mean())"
      ],
      "execution_count": null,
      "outputs": [
        {
          "output_type": "stream",
          "name": "stdout",
          "text": [
            "Cross-validated AUC tree: 0.8290213766207998\n"
          ]
        }
      ]
    },
    {
      "cell_type": "code",
      "metadata": {
        "colab": {
          "base_uri": "https://localhost:8080/"
        },
        "id": "iI7bzbrv54ZM",
        "outputId": "fa188e16-ea27-4a2b-c4d0-1053ebc7c598"
      },
      "source": [
        "#Menghitung akurasi dengan Cross Validation\n",
        "print('Cross-validated AUC tree:', cross_val_score(dt, x, y, cv=10, \n",
        "                                                   scoring='roc_auc').mean())"
      ],
      "execution_count": null,
      "outputs": [
        {
          "output_type": "stream",
          "name": "stdout",
          "text": [
            "Cross-validated AUC tree: 0.8290654601894522\n"
          ]
        }
      ]
    },
    {
      "cell_type": "code",
      "metadata": {
        "id": "bfQ_0_ieSUaF",
        "colab": {
          "base_uri": "https://localhost:8080/",
          "height": 295
        },
        "outputId": "825c6b9a-251f-462e-a3ae-1cb70f3ab53d"
      },
      "source": [
        "# ROC for Decision Tree\n",
        "\n",
        "y_pred_proba =dt.predict_proba(x_test)[::,1]\n",
        "fpr, tpr, _ = metrics.roc_curve(y_test,  y_pred_proba)\n",
        "\n",
        "auc = metrics.roc_auc_score(y_test, y_pred_proba)\n",
        "plt.plot(fpr, tpr, color='darkorange',\n",
        "         label='ROC curve (area = %0.2f)' % auc)\n",
        "plt.plot([0, 1], [0, 1], color='navy', linestyle='--')\n",
        "plt.xlim([0.0, 1.0])\n",
        "plt.ylim([0.0, 1.0])\n",
        "plt.rcParams['font.size'] = 12         \n",
        "plt.title('ROC curve for treatment classifier')        \n",
        "plt.xlabel('False Positive Rate (1 - Specificity)')        \n",
        "plt.ylabel('True Positive Rate (Sensitivity)')        \n",
        "plt.legend(loc=\"lower right\")        \n",
        "plt.show()        \n",
        "       "
      ],
      "execution_count": null,
      "outputs": [
        {
          "output_type": "display_data",
          "data": {
            "image/png": "[encoded data removed]",
            "text/plain": [
              "<Figure size 432x288 with 1 Axes>"
            ]
          },
          "metadata": {
            "needs_background": "light"
          }
        }
      ]
    },
    {
      "cell_type": "markdown",
      "metadata": {
        "id": "kOsv7mELI6pE"
      },
      "source": [
        "**Visualisasi**"
      ]
    },
    {
      "cell_type": "code",
      "metadata": {
        "id": "CV6LmbmcI6pF",
        "colab": {
          "base_uri": "https://localhost:8080/",
          "height": 357
        },
        "outputId": "4389c72a-4f65-4256-be45-85e0cf21a5a1"
      },
      "source": [
        "#Box plot menunjukkan umur karyawan\n",
        "\n",
        "sns.boxplot(survey['Age'])\n",
        "\n",
        "\n"
      ],
      "execution_count": null,
      "outputs": [
        {
          "output_type": "stream",
          "name": "stderr",
          "text": [
            "/usr/local/lib/python3.7/dist-packages/seaborn/_decorators.py:43: FutureWarning: Pass the following variable as a keyword arg: x. From version 0.12, the only valid positional argument will be `data`, and passing other arguments without an explicit keyword will result in an error or misinterpretation.\n",
            "  FutureWarning\n"
          ]
        },
        {
          "output_type": "execute_result",
          "data": {
            "text/plain": [
              "<matplotlib.axes._subplots.AxesSubplot at 0x7ff17e15d150>"
            ]
          },
          "metadata": {},
          "execution_count": 66
        },
        {
          "output_type": "display_data",
          "data": {
            "image/png": "[encoded data removed]",
            "text/plain": [
              "<Figure size 432x288 with 1 Axes>"
            ]
          },
          "metadata": {
            "needs_background": "light"
          }
        }
      ]
    },
    {
      "cell_type": "code",
      "metadata": {
        "colab": {
          "base_uri": "https://localhost:8080/",
          "height": 520
        },
        "id": "UczS3tzRfQdV",
        "outputId": "8d7d0b9a-d76f-4fcd-d96f-ee6ddea9e52e"
      },
      "source": [
        "plt.figure(figsize=(12,8))\n",
        "plt.title('treatment ')\n",
        "sns.countplot(x = 'Gender', data = survey, hue = 'treatment')\n",
        "plt.show()"
      ],
      "execution_count": null,
      "outputs": [
        {
          "output_type": "display_data",
          "data": {
            "image/png": "[encoded data removed]",
            "text/plain": [
              "<Figure size 864x576 with 1 Axes>"
            ]
          },
          "metadata": {
            "needs_background": "light"
          }
        }
      ]
    }
  ]
}